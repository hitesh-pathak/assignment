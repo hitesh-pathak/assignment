{
 "cells": [
  {
   "cell_type": "markdown",
   "id": "579bf09e",
   "metadata": {},
   "source": [
    "## Screening Assignment - Ineuron"
   ]
  },
  {
   "cell_type": "markdown",
   "id": "b2a5ca22",
   "metadata": {},
   "source": [
    "> Please do not skip any cells while executing this notebook, as the later programs depend on the previous cells, Thank you!"
   ]
  },
  {
   "cell_type": "code",
   "execution_count": 1,
   "id": "59d1a592",
   "metadata": {},
   "outputs": [],
   "source": [
    "import os\n",
    "import time\n",
    "import functools\n",
    "from shutil import move, copymode\n",
    "import logging as lg\n",
    "from abc import ABC, abstractmethod\n",
    "import mimetypes\n",
    "from tempfile import mkstemp"
   ]
  },
  {
   "cell_type": "markdown",
   "id": "d418788d",
   "metadata": {},
   "source": [
    "#### Set up logging "
   ]
  },
  {
   "cell_type": "code",
   "execution_count": 2,
   "id": "af697505",
   "metadata": {},
   "outputs": [],
   "source": [
    "# set up logging\n",
    "logger = lg.getLogger('logger')\n",
    "logger.setLevel(lg.DEBUG)\n",
    "\n",
    "# formatter\n",
    "formatter = lg.Formatter('%(asctime)s - %(name)s - %(levelname)s - %(message)s')\n",
    "\n",
    "# console handler\n",
    "ch = lg.StreamHandler()\n",
    "ch.setLevel(lg.WARNING)\n",
    "ch.setFormatter(formatter)\n",
    "\n",
    "# file handler\n",
    "fh = lg.FileHandler('./example.log', encoding='utf-8')\n",
    "fh.setFormatter(formatter)\n",
    "fh.setLevel(lg.INFO)\n",
    "\n",
    "# add handlers\n",
    "logger.addHandler(fh)\n",
    "logger.addHandler(ch)"
   ]
  },
  {
   "cell_type": "markdown",
   "id": "9846a2a0",
   "metadata": {},
   "source": [
    "### 1. Create a function in python to read the text file and replace specific content of the file."
   ]
  },
  {
   "cell_type": "code",
   "execution_count": 3,
   "id": "c17f25d7",
   "metadata": {},
   "outputs": [],
   "source": [
    "def parse_text(path: str, pattern: str = 'placement', replacement: str = 'screening', log_level: str = 'INFO'):\n",
    "    # init logs\n",
    "    try:\n",
    "        level = getattr(lg, log_level.upper())\n",
    "    except AttributeError:\n",
    "        logger.error('Invalid log level: %s' % log_level)\n",
    "    else:\n",
    "        fh.setLevel(level)\n",
    "\n",
    "    try:\n",
    "\n",
    "        # check if the given file exists\n",
    "        logger.debug('Checking if the file path exists on system.')\n",
    "\n",
    "        if not os.path.isfile(path):\n",
    "            logger.debug('File does not exist.')\n",
    "            raise FileNotFoundError('The given path is not a file.')\n",
    "\n",
    "        logger.info('Given file exists on system.')\n",
    "\n",
    "        # check the mimetype of the file\n",
    "        logger.debug('Checking file type.')\n",
    "        file_type, encoding = mimetypes.guess_type(path)\n",
    "\n",
    "        if file_type != 'text/plain':\n",
    "            logger.debug('File has invalid type.')\n",
    "            raise TypeError(f\"Expected {path} to be a text file with '.txt' extension\")\n",
    "\n",
    "        logger.info('File has a valid type, text/plain.')\n",
    "\n",
    "        logger.debug('Creating temporary file.')\n",
    "        fd, temp_path = mkstemp()\n",
    "\n",
    "        logger.debug('Temporary file created, now writing to temporary file')\n",
    "        with open(temp_path, 'w', encoding=encoding) as temp_file:\n",
    "            with open(path, encoding=encoding) as old_file:\n",
    "                for line in old_file:\n",
    "                    # replace the string and write in the temp file\n",
    "                    temp_file.write(line.replace(pattern, replacement))\n",
    "\n",
    "            logger.info('Successfully wrote to the temporary file')\n",
    "\n",
    "        # fd is file descriptor of temp fie\n",
    "        os.close(fd)\n",
    "        logger.debug('Temporary file closed.')\n",
    "\n",
    "        # copy permissions of the original file to temp file\n",
    "        logger.debug('Replacing original file with modified copy')\n",
    "        copymode(path, temp_path)\n",
    "\n",
    "        # remove original file\n",
    "        os.remove(path)\n",
    "        move(temp_path, path)\n",
    "        logger.info('Successfully modified the content in given file')\n",
    "\n",
    "    except Exception as e:\n",
    "        logger.debug('An error has occured.')\n",
    "        logger.exception(e)"
   ]
  },
  {
   "cell_type": "markdown",
   "id": "ea97669c",
   "metadata": {},
   "source": [
    "> Note that if you have any files like example.txt , example.log in the current directory they can be modified by this program"
   ]
  },
  {
   "cell_type": "code",
   "execution_count": 4,
   "id": "1ab259f0",
   "metadata": {},
   "outputs": [
    {
     "name": "stdout",
     "output_type": "stream",
     "text": [
      "Original file content: \n",
      "This is a placement assignment.\n",
      "\n",
      "Modified file content: \n",
      "This is a screening assignment.\n"
     ]
    }
   ],
   "source": [
    "## demonstrate usage\n",
    "\n",
    "# create file\n",
    "\n",
    "with open('./example.txt', 'w') as f:\n",
    "    f.write('This is a placement assignment.')\n",
    "\n",
    "print('Original file content: ')\n",
    "with open('./example.txt') as f:\n",
    "    for line in f:\n",
    "        print(line)\n",
    "print()\n",
    "        \n",
    "# modify content\n",
    "parse_text('./example.txt')\n",
    "\n",
    "print('Modified file content: ')\n",
    "with open('./example.txt') as f:\n",
    "    for line in f:\n",
    "        print(line)"
   ]
  },
  {
   "cell_type": "code",
   "execution_count": null,
   "id": "26feff19",
   "metadata": {},
   "outputs": [],
   "source": []
  },
  {
   "cell_type": "markdown",
   "id": "0f6678ff",
   "metadata": {},
   "source": [
    "### Abstract class"
   ]
  },
  {
   "cell_type": "markdown",
   "id": "2300c6d2",
   "metadata": {},
   "source": [
    "> Abstract base classes ABCs are used to create a blueprint for concrete subclasses, In the example I will create a validator ABC which lays down the methods to be present in a general validator class, these classes can be used to validate a data type. After this I'll create some concrete classes based upon this ABC."
   ]
  },
  {
   "cell_type": "code",
   "execution_count": 5,
   "id": "f07384ef",
   "metadata": {},
   "outputs": [],
   "source": [
    "# For these example I'll no longer log to the file, but just to the console\n",
    "\n",
    "logger.removeHandler(fh)"
   ]
  },
  {
   "cell_type": "code",
   "execution_count": 6,
   "id": "7b2e6b01",
   "metadata": {},
   "outputs": [],
   "source": [
    "class Validator(ABC):\n",
    "    \"\"\"This is an abstract class for general validator classes that may be used to validate data\"\"\"\n",
    "    \n",
    "    @abstractmethod\n",
    "    def validate(self, value):\n",
    "        ''' This is an abstract method that must be overridden in the concerete classes'''"
   ]
  },
  {
   "cell_type": "code",
   "execution_count": 7,
   "id": "257cdeff",
   "metadata": {},
   "outputs": [],
   "source": [
    "# You can not initialise ABC without overriding the abstract methods, even if you create a subclass!\n",
    "\n",
    "class SubValidator(Validator):\n",
    "    \n",
    "    def new_method(self):\n",
    "        print('I will not get printed since the class cant be initiated.')\n"
   ]
  },
  {
   "cell_type": "code",
   "execution_count": 8,
   "id": "56385e7d",
   "metadata": {},
   "outputs": [
    {
     "name": "stderr",
     "output_type": "stream",
     "text": [
      "2022-06-08 22:13:55,632 - logger - ERROR - Can't instantiate abstract class SubValidator with abstract method validate\n",
      "Traceback (most recent call last):\n",
      "  File \"/tmp/ipykernel_2472/3259379208.py\", line 2, in <cell line: 1>\n",
      "    validator = SubValidator()\n",
      "TypeError: Can't instantiate abstract class SubValidator with abstract method validate\n"
     ]
    }
   ],
   "source": [
    "try:\n",
    "    validator = SubValidator()\n",
    "    \n",
    "except Exception as e:\n",
    "    logger.exception(e)"
   ]
  },
  {
   "cell_type": "markdown",
   "id": "468a655e",
   "metadata": {},
   "source": [
    "#### Create concrete class and demonstrate usage"
   ]
  },
  {
   "cell_type": "code",
   "execution_count": 9,
   "id": "83d82ecc",
   "metadata": {},
   "outputs": [],
   "source": [
    "# Checks if the given data is either float or int and if it is in the desired range,\n",
    "# specified by max and min values\n",
    "\n",
    "class NumberVaidator(Validator):\n",
    "\n",
    "    def __init__(self, minvalue, maxvalue):\n",
    "        \n",
    "        if not isinstance(minvalue, (int, float)) or not isinstance(maxvalue, (int,float)):\n",
    "            raise TypeError(f'Expected {minvalue}, {maxvalue} to be an int or float')\n",
    "\n",
    "        self.minvalue = minvalue\n",
    "        self.maxvalue = maxvalue\n",
    "        \n",
    "\n",
    "    def validate(self, value):\n",
    "        if not isinstance(value, (int, float)):\n",
    "            raise TypeError(f'Expected {value!r} to be an int or float')\n",
    "        if self.minvalue is not None and value < self.minvalue:\n",
    "            raise ValueError(\n",
    "                f'Expected {value!r} to be at least {self.minvalue!r}'\n",
    "            )\n",
    "        if self.maxvalue is not None and value > self.maxvalue:\n",
    "            raise ValueError(\n",
    "                f'Expected {value!r} to be no more than {self.maxvalue!r}'\n",
    "            )\n",
    "        return True"
   ]
  },
  {
   "cell_type": "code",
   "execution_count": 10,
   "id": "a58da2ff",
   "metadata": {},
   "outputs": [],
   "source": [
    "# Usage\n",
    "\n",
    "def check_price(price: float|int, min: float|int, max: float|int):\n",
    "    ''' Checks if the input price is within bounds'''\n",
    "    \n",
    "    # use Number validator to validate inputs\n",
    "    try:\n",
    "        validator = NumberVaidator(minvalue=min, maxvalue=max)\n",
    "        if validator.validate(price):\n",
    "            print('Price is within bounds!')\n",
    "    \n",
    "    except ValueError:\n",
    "        print('The price is out of bounds!')\n",
    "        \n",
    "    except TypeError as e:\n",
    "        logger.exception(e)\n",
    "            "
   ]
  },
  {
   "cell_type": "code",
   "execution_count": 11,
   "id": "9fc8bc4b",
   "metadata": {
    "scrolled": true
   },
   "outputs": [
    {
     "name": "stdout",
     "output_type": "stream",
     "text": [
      "Price is within bounds!\n"
     ]
    }
   ],
   "source": [
    "check_price(10, min=0, max=100)"
   ]
  },
  {
   "cell_type": "code",
   "execution_count": 12,
   "id": "88b987e2",
   "metadata": {},
   "outputs": [
    {
     "name": "stdout",
     "output_type": "stream",
     "text": [
      "The price is out of bounds!\n"
     ]
    }
   ],
   "source": [
    "check_price(1000, min=0, max=100)"
   ]
  },
  {
   "cell_type": "code",
   "execution_count": 13,
   "id": "3a49731d",
   "metadata": {},
   "outputs": [
    {
     "name": "stderr",
     "output_type": "stream",
     "text": [
      "2022-06-08 22:14:00,893 - logger - ERROR - Expected a, 1 to be an int or float\n",
      "Traceback (most recent call last):\n",
      "  File \"/tmp/ipykernel_2472/3951821985.py\", line 8, in check_price\n",
      "    validator = NumberVaidator(minvalue=min, maxvalue=max)\n",
      "  File \"/tmp/ipykernel_2472/119248699.py\", line 9, in __init__\n",
      "    raise TypeError(f'Expected {minvalue}, {maxvalue} to be an int or float')\n",
      "TypeError: Expected a, 1 to be an int or float\n"
     ]
    }
   ],
   "source": [
    "check_price(10, min='a', max=1)"
   ]
  },
  {
   "cell_type": "code",
   "execution_count": 14,
   "id": "bfd600fe",
   "metadata": {},
   "outputs": [
    {
     "name": "stderr",
     "output_type": "stream",
     "text": [
      "2022-06-08 22:14:01,415 - logger - ERROR - Expected 'xyz' to be an int or float\n",
      "Traceback (most recent call last):\n",
      "  File \"/tmp/ipykernel_2472/3951821985.py\", line 9, in check_price\n",
      "    if validator.validate(price):\n",
      "  File \"/tmp/ipykernel_2472/119248699.py\", line 17, in validate\n",
      "    raise TypeError(f'Expected {value!r} to be an int or float')\n",
      "TypeError: Expected 'xyz' to be an int or float\n"
     ]
    }
   ],
   "source": [
    "check_price('xyz', min=0, max=100)"
   ]
  },
  {
   "cell_type": "markdown",
   "id": "537689ed",
   "metadata": {},
   "source": [
    "### Multiple Inheritance"
   ]
  },
  {
   "cell_type": "markdown",
   "id": "e080b8c0",
   "metadata": {},
   "source": [
    "> I'll demonstrate multiple inheritance by creating another ABC and the inheriting this ABC and the previous Validator class, at the end it can be seen that the methods from both parents will be inherited by the child class"
   ]
  },
  {
   "cell_type": "code",
   "execution_count": 15,
   "id": "bae04da1",
   "metadata": {},
   "outputs": [],
   "source": [
    "class Messenger(ABC):\n",
    "    \n",
    "    @abstractmethod\n",
    "    def show_message(self, message):\n",
    "        pass\n"
   ]
  },
  {
   "cell_type": "code",
   "execution_count": 16,
   "id": "3de295c3",
   "metadata": {},
   "outputs": [],
   "source": [
    "## create child class that inherits from multiple parents\n",
    "\n",
    "class ChildValidator(NumberVaidator, Messenger):\n",
    "    \n",
    "    # init is supplied by the Validator class\n",
    "    def show_message(self, message: str):\n",
    "        if not isinstance(message, str):\n",
    "            raise TypeError(f'Expected {message!r} to be an str')\n",
    "        \n",
    "        print(message)\n"
   ]
  },
  {
   "cell_type": "code",
   "execution_count": 17,
   "id": "5fdf6c56",
   "metadata": {},
   "outputs": [],
   "source": [
    "## demonstrate usage\n",
    "\n",
    "child = ChildValidator(minvalue=0, maxvalue=100)\n",
    "\n",
    "# do number validation and show message!\n",
    "\n",
    "def check_number(value,):\n",
    "    ''' Check if number is between 0 and 100, and print result'''\n",
    "    \n",
    "    try:\n",
    "        # use validate method from NumberValidator\n",
    "        if child.validate(value):\n",
    "        \n",
    "            # use show_message method from Messenger class\n",
    "            child.show_message('Yes the number is within 0 and 100')\n",
    "    \n",
    "    except ValueError:\n",
    "        child.show_message('The number is not within 0 and 100')\n",
    "    \n",
    "    except TypeError as e:\n",
    "        logger.exception(e)\n",
    "    \n",
    "    "
   ]
  },
  {
   "cell_type": "code",
   "execution_count": 18,
   "id": "cec7c66e",
   "metadata": {},
   "outputs": [
    {
     "name": "stdout",
     "output_type": "stream",
     "text": [
      "Yes the number is within 0 and 100\n"
     ]
    }
   ],
   "source": [
    "check_number(98.6)"
   ]
  },
  {
   "cell_type": "code",
   "execution_count": 19,
   "id": "a1c32b3f",
   "metadata": {},
   "outputs": [
    {
     "name": "stdout",
     "output_type": "stream",
     "text": [
      "The number is not within 0 and 100\n"
     ]
    }
   ],
   "source": [
    "check_number(10000)"
   ]
  },
  {
   "cell_type": "code",
   "execution_count": 20,
   "id": "e727bf3a",
   "metadata": {},
   "outputs": [
    {
     "name": "stderr",
     "output_type": "stream",
     "text": [
      "2022-06-08 22:14:20,825 - logger - ERROR - Expected 'I am not number' to be an int or float\n",
      "Traceback (most recent call last):\n",
      "  File \"/tmp/ipykernel_2472/1871522971.py\", line 12, in check_number\n",
      "    if child.validate(value):\n",
      "  File \"/tmp/ipykernel_2472/119248699.py\", line 17, in validate\n",
      "    raise TypeError(f'Expected {value!r} to be an int or float')\n",
      "TypeError: Expected 'I am not number' to be an int or float\n"
     ]
    }
   ],
   "source": [
    "check_number('I am not number')"
   ]
  },
  {
   "cell_type": "code",
   "execution_count": null,
   "id": "cfc50b1d",
   "metadata": {},
   "outputs": [],
   "source": []
  },
  {
   "cell_type": "markdown",
   "id": "25f5ae68",
   "metadata": {},
   "source": [
    "### Decorators"
   ]
  },
  {
   "cell_type": "markdown",
   "id": "2922d6bd",
   "metadata": {},
   "source": [
    "> Decorators are syntactic sugar, they are used to encapsulate methods/ classes to change their behavior. I've already used @abstractmethod multiple times above. Now I'll provide a decorator example."
   ]
  },
  {
   "cell_type": "code",
   "execution_count": 21,
   "id": "34162d48",
   "metadata": {},
   "outputs": [],
   "source": [
    "## measuring time \n",
    "\n",
    "def timer_decorator(func):\n",
    "    ''' This decorator shows the time taken by decorated function to execute'''\n",
    "    \n",
    "    functools.wraps(func)\n",
    "    \n",
    "    def timer(*args, **kwargs):\n",
    "        \n",
    "        # use performance counter\n",
    "        start = time.perf_counter()\n",
    "        \n",
    "        # execute the decorated func\n",
    "        out = func(*args, **kwargs)\n",
    "        \n",
    "        end = time.perf_counter()\n",
    "        period = end - start\n",
    "        \n",
    "        # show upto two digits beyong decimal\n",
    "        print (f\"Finished {repr(func.__name__)} in {period:.2f} seconds\")\n",
    "        \n",
    "        # return the original value\n",
    "        return out\n",
    "    \n",
    "    return timer"
   ]
  },
  {
   "cell_type": "code",
   "execution_count": 22,
   "id": "6374640a",
   "metadata": {},
   "outputs": [],
   "source": [
    "## demonstrate usage\n",
    "\n",
    "def cube(n: int):\n",
    "    if not isinstance(n, int) or n < 0:\n",
    "        raise TypeError('Expected n to be integer not less than zero.')\n",
    "    \n",
    "    ## classic example of where you should not use a list but a generator\n",
    "    ## this time we must use a list because we need to waste some time\n",
    "    \n",
    "    l = [0]\n",
    "    for i in range(n):\n",
    "        l.append(i**3)\n",
    "    \n",
    "    return sum(l)"
   ]
  },
  {
   "cell_type": "code",
   "execution_count": 23,
   "id": "b7d91170",
   "metadata": {},
   "outputs": [
    {
     "data": {
      "text/plain": [
       "249999500000250000000000"
      ]
     },
     "execution_count": 23,
     "metadata": {},
     "output_type": "execute_result"
    }
   ],
   "source": [
    "cube(1000000)"
   ]
  },
  {
   "cell_type": "code",
   "execution_count": 24,
   "id": "2f89604a",
   "metadata": {},
   "outputs": [],
   "source": [
    "## let's decorate the function now and see the change\n",
    "\n",
    "@timer_decorator\n",
    "def cube(n: int):\n",
    "    if not isinstance(n, int) or n < 0:\n",
    "        raise TypeError('Expected n to be integer not less than zero.')\n",
    "    \n",
    "    ## classic example of where you should not use a list but a generator\n",
    "    ## this time we must use a list because we need to waste some time\n",
    "    \n",
    "    l = [0]\n",
    "    for i in range(n):\n",
    "        l.append(i**3)\n",
    "    \n",
    "    return sum(l)"
   ]
  },
  {
   "cell_type": "code",
   "execution_count": 25,
   "id": "bb9ac91d",
   "metadata": {},
   "outputs": [
    {
     "name": "stdout",
     "output_type": "stream",
     "text": [
      "Finished 'cube' in 1.38 seconds\n"
     ]
    },
    {
     "data": {
      "text/plain": [
       "249999500000250000000000"
      ]
     },
     "execution_count": 25,
     "metadata": {},
     "output_type": "execute_result"
    }
   ],
   "source": [
    "## execute decorated function\n",
    "\n",
    "cube(1000000)"
   ]
  },
  {
   "cell_type": "markdown",
   "id": "05a922c0",
   "metadata": {},
   "source": [
    "> Now the function is modified to tell us about its runtime...\n",
    "\n",
    "> The use of functools.wraps() is to make sure the function still retains its identity, without it the function will not retain its attributes like __name__ or __doc__, it will inherit those from the decoratror which is not what we want...."
   ]
  },
  {
   "cell_type": "code",
   "execution_count": null,
   "id": "c3d07d45",
   "metadata": {},
   "outputs": [],
   "source": []
  }
 ],
 "metadata": {
  "kernelspec": {
   "display_name": "Python 3 (ipykernel)",
   "language": "python",
   "name": "python3"
  },
  "language_info": {
   "codemirror_mode": {
    "name": "ipython",
    "version": 3
   },
   "file_extension": ".py",
   "mimetype": "text/x-python",
   "name": "python",
   "nbconvert_exporter": "python",
   "pygments_lexer": "ipython3",
   "version": "3.10.4"
  }
 },
 "nbformat": 4,
 "nbformat_minor": 5
}
